{
 "cells": [
  {
   "cell_type": "markdown",
   "id": "d760d393",
   "metadata": {},
   "source": [
    "## Write a Python function to sum all the numbers in a list.\n",
    "\n",
    "\n",
    "\n",
    "Sample List : [ 8, 2, 3, 0, 7 ]\n",
    "\n",
    "Expected Output : 20\n",
    "\n",
    "\n",
    "\n",
    "Explanation:\n",
    "\n",
    "\n",
    "\n",
    "Summation should like 8+2+3+0+7 = 20"
   ]
  },
  {
   "cell_type": "code",
   "execution_count": 1,
   "id": "0fa5d676",
   "metadata": {},
   "outputs": [
    {
     "name": "stdout",
     "output_type": "stream",
     "text": [
      " sum of number [8, 2, 3, 0, 7] = 20\n"
     ]
    }
   ],
   "source": [
    "# approach 1\n",
    "def sum_of_numbers(sample_list):    # using user-define function with for loop\n",
    "    total = 0                       \n",
    "    for number in sample_list:      # ---O(n)\n",
    "        total+= number\n",
    "    return total\n",
    "sample_list = [8, 2, 3, 0, 7]      \n",
    "summ = sum_of_numbers(sample_list)\n",
    "print(f\" sum of number {sample_list} = {summ}\")         # using f-string inside print()\n",
    "\n",
    "#Total time complexity = O(n)"
   ]
  },
  {
   "cell_type": "markdown",
   "id": "4de6c0a6",
   "metadata": {},
   "source": [
    "### same approach 1 but using input function to take input from user/ keyboard"
   ]
  },
  {
   "cell_type": "code",
   "execution_count": 2,
   "id": "9f4ebc79",
   "metadata": {},
   "outputs": [
    {
     "name": "stdout",
     "output_type": "stream",
     "text": [
      "Enter the lists items separated by , :- 8,2,3,0,7\n",
      " sum of number [8, 2, 3, 0, 7] = 20\n"
     ]
    }
   ],
   "source": [
    "# approach 1\n",
    "def sum_of_numbers(sample_list):    # using user-define function with for loop\n",
    "    total = 0                       \n",
    "    for number in sample_list:      # ---O(n)\n",
    "        total+= number\n",
    "    return total                          # using list comprenshion to take input as list and type casting to int\n",
    "sample_list = [int(item) for item in input(\"Enter the lists items separated by , :- \").split(\",\") ]\n",
    "summ = sum_of_numbers(sample_list)\n",
    "print(f\" sum of number {sample_list} = {summ}\")         # using f-string inside print()\n",
    "\n",
    "#Total time complexity = O(n)"
   ]
  },
  {
   "cell_type": "code",
   "execution_count": 3,
   "id": "e7eeec36",
   "metadata": {},
   "outputs": [
    {
     "name": "stdout",
     "output_type": "stream",
     "text": [
      " sum of number [8, 2, 3, 0, 7] = 20\n"
     ]
    }
   ],
   "source": [
    "# approach 2\n",
    "def sum_of_numbers(sample_list):          # using user-define function with for loop \n",
    "    total = 0                                  \n",
    "    for number in range(len(sample_list)):   # ---O(n),  using range function with indexing \n",
    "        total+= sample_list[number]\n",
    "    return total\n",
    "sample_list = [8, 2, 3, 0, 7]           # arguments are lists\n",
    "summ = sum_of_numbers(sample_list)\n",
    "print(f\" sum of number {sample_list} = {summ}\")         # using f-string inside print()\n",
    "\n",
    "#Total time complexity = O(n)"
   ]
  },
  {
   "cell_type": "code",
   "execution_count": 4,
   "id": "0a6e865a",
   "metadata": {},
   "outputs": [
    {
     "name": "stdout",
     "output_type": "stream",
     "text": [
      "Sum of number [8, 2, 3, 0, 7] = 20\n"
     ]
    }
   ],
   "source": [
    "# approach 3\n",
    "def sum_of_numbers(sample_list):             # using user-define function with while loop\n",
    "    total = 0                        \n",
    "    i= 0\n",
    "    while i < len(sample_list): # ---O(n),     using indexing\n",
    "        total+= sample_list[i]\n",
    "        i+= 1\n",
    "    return total\n",
    "sample_list = [8, 2, 3, 0, 7]       # arguments are lists\n",
    "summ = sum_of_numbers(sample_list)\n",
    "print(\"Sum of number {} = {}\".format(sample_list, summ))   # using formatting- string inside print()\n",
    "\n",
    "#Total time complexity = O(n)"
   ]
  },
  {
   "cell_type": "code",
   "execution_count": null,
   "id": "a7525c98",
   "metadata": {},
   "outputs": [],
   "source": []
  },
  {
   "cell_type": "markdown",
   "id": "81bd59cd",
   "metadata": {},
   "source": [
    "### out of assignment task  for practice only"
   ]
  },
  {
   "cell_type": "code",
   "execution_count": null,
   "id": "da7197ee",
   "metadata": {},
   "outputs": [],
   "source": []
  },
  {
   "cell_type": "code",
   "execution_count": 5,
   "id": "6f01d446",
   "metadata": {},
   "outputs": [
    {
     "name": "stdout",
     "output_type": "stream",
     "text": [
      "Sum of number [8, 2, 3, 0, 7] = 20\n"
     ]
    }
   ],
   "source": [
    "def sum_of_numbers(sample_list):\n",
    "    summ = sum(sample_list)\n",
    "    return summ\n",
    "sample_list = [8, 2, 3, 0, 7]      \n",
    "summ = sum_of_numbers(sample_list)\n",
    "print(f\"Sum of number {sample_list} = {summ}\")"
   ]
  },
  {
   "cell_type": "code",
   "execution_count": null,
   "id": "3321b74c",
   "metadata": {},
   "outputs": [],
   "source": []
  }
 ],
 "metadata": {
  "kernelspec": {
   "display_name": "Python 3 (ipykernel)",
   "language": "python",
   "name": "python3"
  },
  "language_info": {
   "codemirror_mode": {
    "name": "ipython",
    "version": 3
   },
   "file_extension": ".py",
   "mimetype": "text/x-python",
   "name": "python",
   "nbconvert_exporter": "python",
   "pygments_lexer": "ipython3",
   "version": "3.8.9"
  }
 },
 "nbformat": 4,
 "nbformat_minor": 5
}
